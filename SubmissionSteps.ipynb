{
 "cells": [
  {
   "cell_type": "markdown",
   "metadata": {},
   "source": [
    "# Test Evaluation"
   ]
  },
  {
   "cell_type": "code",
   "execution_count": 1,
   "metadata": {},
   "outputs": [],
   "source": [
    "import os\n",
    "import pandas as pd\n",
    "import numpy as np\n",
    "from scipy.stats import pearsonr\n"
   ]
  },
  {
   "cell_type": "code",
   "execution_count": 2,
   "metadata": {},
   "outputs": [],
   "source": [
    "network_drive_dir = '/mnt/E132-Projekte/Projects/2019_n2c2_challenge/'"
   ]
  },
  {
   "cell_type": "code",
   "execution_count": 3,
   "metadata": {},
   "outputs": [],
   "source": [
    "train_scores_true = pd.read_csv(network_drive_dir + 'clinicalSTS2019.train.txt', delimiter='\\t', header=None)[2].to_numpy()\n",
    "scores_true = pd.read_csv(network_drive_dir + 'output/submissions/8603970923442688/clinicalSTS2019.test.gs.sim.txt', header=None)[0].to_numpy()"
   ]
  },
  {
   "cell_type": "markdown",
   "metadata": {},
   "source": [
    "### Enhanced Bert"
   ]
  },
  {
   "cell_type": "code",
   "execution_count": 4,
   "metadata": {},
   "outputs": [
    {
     "output_type": "stream",
     "name": "stdout",
     "text": [
      "0.8505066422830385 - Train scores step 2\n0.8586733365753403 - Test scores step 1\n"
     ]
    }
   ],
   "source": [
    "step1_train = pd.read_csv(network_drive_dir + 'output/run1/step1/bert_output_scores_train.csv')['score'].to_numpy()\n",
    "step1_test = pd.read_csv(network_drive_dir + 'output/run1/step1/bert_output_scores_test.csv')['score'].to_numpy()\n",
    "print(f'{pearsonr(step1_train, train_scores_true)[0]} - Train scores step 2')\n",
    "print(f'{pearsonr(step1_test, scores_true)[0]} - Test scores step 1')"
   ]
  },
  {
   "cell_type": "markdown",
   "metadata": {},
   "source": [
    "### Voting Regression"
   ]
  },
  {
   "cell_type": "code",
   "execution_count": 5,
   "metadata": {},
   "outputs": [
    {
     "output_type": "stream",
     "name": "stdout",
     "text": [
      "0.8603970923442686 - Train scores step 2\n0.8491788063497706 - Test scores step 1\n"
     ]
    }
   ],
   "source": [
    "step2_train = pd.read_csv(network_drive_dir + 'output/run1/step2/some_features_0_dev_prediction.csv', header=None)[0].to_numpy()\n",
    "step2_test = pd.read_csv(network_drive_dir + 'output/run1/step2/some_features_0_test_prediction.csv', header=None)[0].to_numpy()\n",
    "print(f'{pearsonr(step2_train, train_scores_true)[0]} - Train scores step 2')\n",
    "print(f'{pearsonr(step2_test, scores_true)[0]} - Test scores step 1')"
   ]
  },
  {
   "cell_type": "markdown",
   "metadata": {},
   "source": [
    "### Medication Graph"
   ]
  },
  {
   "cell_type": "code",
   "execution_count": 6,
   "metadata": {},
   "outputs": [
    {
     "output_type": "stream",
     "name": "stdout",
     "text": [
      "0.8618584537614349 - Train scores step 2\n0.8616985288938904 - Test scores step 1\nsame as in 2\n"
     ]
    }
   ],
   "source": [
    "step3_graph_train = pd.read_csv(network_drive_dir + 'output/run1/step3/preprocessed_data_2019-08-06_21-40-40/graph_scores_train.csv')['score'].to_numpy()\n",
    "step3_graph_test = pd.read_csv(network_drive_dir + 'output/run1/step3/preprocessed_data_2019-08-06_21-40-40/graph_scores_test.csv')['score'].to_numpy()\n",
    "step3_train = step2_train.copy()\n",
    "step3_train[step3_graph_train != 10] = step3_graph_train[step3_graph_train != 10]\n",
    "step3_test = step2_test.copy()\n",
    "step3_test[step3_graph_test != 10] = step3_graph_test[step3_graph_test != 10]\n",
    "print(f'{pearsonr(step3_train, train_scores_true)[0]} - Train scores step 2')\n",
    "print(f'{pearsonr(step3_test, scores_true)[0]} - Test scores step 1')\n",
    "print('same as in 2')"
   ]
  },
  {
   "source": [
    "sum(step3_graph_test != 10)"
   ],
   "cell_type": "code",
   "metadata": {},
   "execution_count": 8,
   "outputs": [
    {
     "output_type": "execute_result",
     "data": {
      "text/plain": [
       "94"
      ]
     },
     "metadata": {},
     "execution_count": 8
    }
   ]
  },
  {
   "cell_type": "code",
   "execution_count": 9,
   "metadata": {},
   "outputs": [
    {
     "output_type": "execute_result",
     "data": {
      "text/plain": [
       "148"
      ]
     },
     "metadata": {},
     "execution_count": 9
    }
   ],
   "source": [
    "sum(step3_graph_train != 10)"
   ]
  },
  {
   "cell_type": "code",
   "execution_count": 21,
   "metadata": {},
   "outputs": [
    {
     "data": {
      "text/plain": [
       "array([1.91962365, 3.02080456, 4.32715539, 1.7674538 , 1.53140277,\n",
       "       1.57582981, 2.69058631, 1.59874927, 1.69849115, 1.9051658 ,\n",
       "       1.8822309 , 1.51822006, 2.15805445, 1.4193063 , 3.44182167,\n",
       "       3.68950891, 4.43160836, 1.67447326, 4.63240929, 2.07942814,\n",
       "       2.76862427, 1.85719852, 1.54055718, 1.74520421, 2.2335856 ,\n",
       "       1.64414079, 2.40908164, 3.72529942, 3.05884908, 1.63124031,\n",
       "       1.60288008, 4.76373226, 1.6917981 , 3.35776882, 2.93615075,\n",
       "       1.65231379, 1.71684694, 4.13268305, 4.27047001, 3.84585319,\n",
       "       4.08149692, 3.18624199, 2.73008227, 1.64516726, 2.14033141,\n",
       "       2.39129219, 3.43961285, 1.67076833, 2.11208036, 2.12492612,\n",
       "       1.51822055, 1.69984453, 1.56302873, 1.94514012, 1.31966434,\n",
       "       3.18550331, 4.29035905, 1.62634715, 4.40107287, 1.44709537,\n",
       "       3.36152128, 1.64484862, 2.43473888, 3.63454681, 3.71400064,\n",
       "       4.38967013, 3.22783027, 1.69013926, 2.13835005, 1.70038675,\n",
       "       1.47596558, 0.94433552, 1.97221421, 1.7737868 , 3.92457313,\n",
       "       2.31992168, 3.91956857, 4.45567178, 2.20769868, 1.65886264,\n",
       "       1.36184832, 1.72479863, 4.21610542, 1.85339048, 1.71856811,\n",
       "       1.86391267, 2.92366817, 1.8488793 , 3.10642577, 2.48249743,\n",
       "       2.4919538 , 4.30604713, 1.23096491, 2.45489335, 3.03711203,\n",
       "       1.6338272 , 3.97904056, 3.77962891, 2.04450711, 3.38702596,\n",
       "       3.78519973, 3.64293611, 2.18667532, 3.31840785, 1.69834204,\n",
       "       1.58688106, 1.65787896, 2.41710945, 1.9228375 , 1.69001543,\n",
       "       4.13973586, 1.53229244, 1.67481343, 3.91139301, 3.96181135,\n",
       "       2.0334912 , 3.09225744, 1.68304674, 1.57258378, 3.05878476,\n",
       "       3.99347257, 4.34921153, 3.08045675, 2.14264782, 1.76747282,\n",
       "       1.58709927, 2.06912   , 4.069055  , 2.22283231, 4.07694842,\n",
       "       2.43285668, 1.49072362, 2.35695482, 3.91205839, 3.47863266,\n",
       "       1.65958811, 1.78430955, 2.38021665, 1.59949192, 1.64439553,\n",
       "       1.70810151, 4.17765358, 4.17608642, 3.87234784, 4.38938527,\n",
       "       1.31762992, 3.0725832 , 3.31467438, 1.58855146, 1.37983064,\n",
       "       1.5868374 , 0.94013128, 1.3929758 , 4.07037806, 2.40823212,\n",
       "       3.71738486, 1.76942317, 3.18742855, 1.91389529, 1.55658649,\n",
       "       3.4659005 , 1.70055615, 1.68510345, 1.39378786, 2.1099217 ,\n",
       "       1.89686412, 1.55588571, 1.68000957, 1.46804551, 1.5048956 ,\n",
       "       1.69580423, 2.62279439, 1.63544031, 2.7335974 , 3.92044456,\n",
       "       1.69068218, 1.61292242, 3.90594835, 4.31974304, 4.53325465,\n",
       "       1.69947344, 1.29012865, 4.15169143, 1.7339509 , 2.3134333 ,\n",
       "       4.22466654, 4.43978669, 3.49580178, 2.08742761, 2.11353594,\n",
       "       1.6862104 , 1.08351088, 2.53304925, 1.6245541 , 1.91957371,\n",
       "       4.12686945, 1.71018486, 2.35674727, 1.92881953, 1.42560422,\n",
       "       2.22854256, 2.15584282, 1.59721677, 1.60418829, 3.65929524,\n",
       "       1.70256379, 3.87029509, 1.81674065, 4.18622832, 2.04663929,\n",
       "       3.75671027, 1.75757853, 1.92724393, 1.69382919, 1.33292578,\n",
       "       3.45017525, 1.588931  , 3.81133735, 1.61465125, 1.23795452,\n",
       "       3.50098649, 1.62855809, 1.62757836, 2.23902587, 1.59920505,\n",
       "       1.64554549, 2.14390958, 1.62866843, 1.59751431, 2.49436411,\n",
       "       2.13731004, 1.60490655, 2.36171287, 3.91157873, 1.77449964,\n",
       "       4.2407261 , 1.60533072, 4.11296561, 1.34316987, 3.38236402,\n",
       "       2.62700257, 3.71982487, 1.8085862 , 1.57447801, 1.70176241,\n",
       "       3.71035709, 1.97845064, 3.08684286, 1.61046478, 1.75542087,\n",
       "       2.29367552, 3.48853812, 4.24122098, 4.27165522, 3.49592816,\n",
       "       2.17401834, 3.73973828, 1.72362936, 1.77422083, 2.16903226,\n",
       "       3.62461272, 1.71163931, 4.19810068, 1.69005578, 3.12736414,\n",
       "       2.9365779 , 3.71020531, 3.90583078, 1.78086753, 2.7620467 ,\n",
       "       1.64607358, 2.10031083, 3.86475059, 1.66440614, 1.55073141,\n",
       "       2.6050476 , 1.32454822, 2.74010879, 4.14889102, 3.83845493,\n",
       "       1.7167565 , 4.15179908, 1.68716474, 2.23055751, 4.42799125,\n",
       "       2.02344104, 2.0344298 , 1.60996524, 4.4121127 , 2.36971261,\n",
       "       1.51439188, 3.28725506, 2.7466327 , 2.23565972, 1.42885279,\n",
       "       3.37316893, 2.55641732, 2.48677688, 3.51434936, 2.71710757,\n",
       "       1.74065919, 3.89423443, 1.84143851, 1.45153321, 1.69126686,\n",
       "       1.20878499, 4.12768705, 3.93135253, 2.15816834, 4.25440236,\n",
       "       3.64090361, 1.63756216, 4.14144861, 2.85060833, 3.9150575 ,\n",
       "       1.62615826, 1.69949813, 1.62644883, 3.75231667, 4.36548079,\n",
       "       1.65159263, 2.9337424 , 3.61779266, 1.23706488, 1.6226005 ,\n",
       "       2.34443532, 3.6111164 , 1.78153677, 3.20187153, 2.30046119,\n",
       "       3.82115995, 3.71672393, 2.51533753, 3.17775269, 2.15910817,\n",
       "       3.90858714, 3.00489743, 2.28437026, 1.62805305, 4.28050426,\n",
       "       3.58575154, 1.69030582, 2.21792333, 2.04359441, 2.2373275 ,\n",
       "       2.34016778, 1.83259276, 1.70186892, 1.74213091, 3.02719001,\n",
       "       1.69604549, 1.91987975, 2.77698019, 1.69801652, 3.72743867,\n",
       "       1.59645883, 1.75049379, 4.00351329, 2.3714848 , 4.58482515,\n",
       "       4.36790784, 4.13196113, 2.60022676, 3.14720635, 3.49595544,\n",
       "       1.08128017, 3.5675986 , 1.66117857, 3.98749232, 1.78725624,\n",
       "       2.21801375, 2.29492981, 1.67971476, 1.86105161, 1.71484288,\n",
       "       4.46218263, 2.00993466, 2.05433472, 3.51673082, 1.52834597,\n",
       "       1.59793487, 1.57686315, 3.04636759, 2.15094979, 3.55612742,\n",
       "       4.37457148, 4.30486055, 2.57432097, 2.81452243, 3.94247364,\n",
       "       1.43113796, 1.6973243 , 1.50951602, 4.46484213, 3.8469918 ,\n",
       "       4.23737814, 1.72869246, 1.94759282, 4.4649204 , 2.90997844,\n",
       "       1.40385751, 4.2836937 , 2.44694886, 4.01425475, 1.5754832 ,\n",
       "       1.69643557, 4.00484059, 1.68132442, 4.54341418, 2.03674556,\n",
       "       1.75813428, 1.84689662])"
      ]
     },
     "execution_count": 21,
     "metadata": {},
     "output_type": "execute_result"
    }
   ],
   "source": [
    "step3_test"
   ]
  },
  {
   "cell_type": "code",
   "execution_count": 18,
   "metadata": {},
   "outputs": [
    {
     "name": "stdout",
     "output_type": "stream",
     "text": [
      "0.861858453761435 - Train scores step 2\n",
      "same as in 2\n"
     ]
    }
   ],
   "source": [
    "print(f'{pearsonr(step3_train, train_scores_true)[0]} - Train scores step 2')\n",
    "#print(f'{pearsonr(step3_test, scores_true)[0]} - Test scores step 1')\n",
    "print('same as in 2')"
   ]
  },
  {
   "cell_type": "code",
   "execution_count": 6,
   "metadata": {},
   "outputs": [
    {
     "name": "stdout",
     "output_type": "stream",
     "text": [
      "0.8603970923442688 - Train scores step 2\n",
      "0.8491788063497707 - Test scores step 1\n",
      "same as in 2\n"
     ]
    }
   ],
   "source": [
    "step3_train = pd.read_csv(network_drive_dir + 'output/run1/step3/preprocessed_data_2019-08-06_21-40-40/some_features_0_dev_prediction_step2.csv', header=None)[0].to_numpy()\n",
    "step3_test = pd.read_csv(network_drive_dir + 'output/run1/step3/preprocessed_data_2019-08-06_21-40-40/some_features_0_test_prediction_step2.csv', header=None)[0].to_numpy()\n",
    "print(f'{pearsonr(step3_train, train_scores_true)[0]} - Train scores step 2')\n",
    "print(f'{pearsonr(step3_test, scores_true)[0]} - Test scores step 1')\n",
    "print('same as in 2')"
   ]
  },
  {
   "cell_type": "code",
   "execution_count": 7,
   "metadata": {},
   "outputs": [
    {
     "name": "stdout",
     "output_type": "stream",
     "text": [
      "0.8604672658183281 - Train scores step 2\n",
      "0.8498357692426267 - Test scores step 1\n"
     ]
    }
   ],
   "source": [
    "step4_train = pd.read_csv(network_drive_dir + 'output/run1/step4/some_features_0_dev_prediction.csv', header=None)[0].to_numpy()\n",
    "step4_test = pd.read_csv(network_drive_dir + 'output/run1/step4/some_features_0_test_prediction.csv', header=None)[0].to_numpy()\n",
    "print(f'{pearsonr(step4_train, train_scores_true)[0]} - Train scores step 2')\n",
    "print(f'{pearsonr(step4_test, scores_true)[0]} - Test scores step 1')"
   ]
  },
  {
   "cell_type": "code",
   "execution_count": null,
   "metadata": {},
   "outputs": [],
   "source": []
  }
 ],
 "metadata": {
  "kernelspec": {
   "display_name": "Python 3",
   "language": "python",
   "name": "python3"
  },
  "language_info": {
   "codemirror_mode": {
    "name": "ipython",
    "version": 3
   },
   "file_extension": ".py",
   "mimetype": "text/x-python",
   "name": "python",
   "nbconvert_exporter": "python",
   "pygments_lexer": "ipython3",
   "version": "3.8.5-final"
  }
 },
 "nbformat": 4,
 "nbformat_minor": 4
}