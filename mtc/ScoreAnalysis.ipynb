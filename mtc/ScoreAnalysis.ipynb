{
 "cells": [
  {
   "cell_type": "markdown",
   "metadata": {},
   "source": [
    "# Test Evaluation"
   ]
  },
  {
   "cell_type": "code",
   "execution_count": 49,
   "metadata": {},
   "outputs": [],
   "source": [
    "import os\n",
    "import pandas as pd\n",
    "import numpy as np\n",
    "from scipy.stats import pearsonr\n",
    "from pathlib import Path\n",
    "pd.set_option(\"display.max_rows\", None, \"display.max_columns\", None, 'display.max_colwidth', None)"
   ]
  },
  {
   "cell_type": "markdown",
   "metadata": {},
   "source": [
    "## Train"
   ]
  },
  {
   "cell_type": "code",
   "execution_count": 50,
   "metadata": {},
   "outputs": [],
   "source": [
    "path_data = Path(os.environ.get('NLP_RAW_DATA')) / 'n2c2'\n",
    "path_results = Path(os.environ.get('NLP_EXPERIMENT_PATH')) / 'submission_generation' / '03_12_2020_20_18_37_original_data'\n",
    "df_train = pd.read_csv(path_data / 'clinicalSTS2019.train.txt', delimiter='\\t', names=['sentence_a', 'sentence_b', 'score_true'])\n",
    "df_train['score_step2'] = pd.read_csv(path_results / 'normal' / 'step2_train_scores.csv', header=None)[0].to_numpy()\n",
    "df_train['score_step4'] = pd.read_csv(path_results / 'normal' / 'step4_train_scores.csv', header=None)[0].to_numpy()\n",
    "df_train['score_diff'] = (abs(df_train['score_step4'] - df_train['score_true'])) - abs((df_train['score_step2'] - df_train['score_true']))\n",
    "\n",
    "df_train_med = df_train[np.abs(df_train['score_step2'] - df_train['score_step4']) > 0.001]\n",
    "#df_train_med = df_train[df_train['score_step2'] != df_train['score_step4']]"
   ]
  },
  {
   "cell_type": "code",
   "execution_count": 51,
   "metadata": {},
   "outputs": [
    {
     "output_type": "execute_result",
     "data": {
      "text/plain": [
       "(2.787484774665043, 1.388712509029767)"
      ]
     },
     "metadata": {},
     "execution_count": 51
    }
   ],
   "source": [
    "(df_train['score_true'].mean(), df_train['score_true'].std())"
   ]
  },
  {
   "cell_type": "code",
   "execution_count": 69,
   "metadata": {},
   "outputs": [
    {
     "output_type": "execute_result",
     "data": {
      "text/plain": [
       "(147, 8.95249695493301)"
      ]
     },
     "metadata": {},
     "execution_count": 69
    }
   ],
   "source": [
    "(len(df_train_med), 100 * len(df_train_med) / len(df_train))"
   ]
  },
  {
   "cell_type": "code",
   "execution_count": 53,
   "metadata": {},
   "outputs": [
    {
     "output_type": "execute_result",
     "data": {
      "text/plain": [
       "(2.0285714285714285, 1.048857826269141)"
      ]
     },
     "metadata": {},
     "execution_count": 53
    }
   ],
   "source": [
    "(df_train_med['score_true'].mean(), df_train_med['score_true'].std())"
   ]
  },
  {
   "cell_type": "code",
   "execution_count": 54,
   "metadata": {},
   "outputs": [
    {
     "output_type": "execute_result",
     "data": {
      "text/plain": [
       "0.6959206986788156"
      ]
     },
     "metadata": {},
     "execution_count": 54
    }
   ],
   "source": [
    "np.sum(np.abs(df_train_med['score_step2'] - df_train_med['score_true'])**2)/len(df_train_med)"
   ]
  },
  {
   "cell_type": "code",
   "execution_count": 55,
   "metadata": {},
   "outputs": [
    {
     "output_type": "execute_result",
     "data": {
      "text/plain": [
       "0.5808822487618591"
      ]
     },
     "metadata": {},
     "execution_count": 55
    }
   ],
   "source": [
    "np.sum(np.abs(df_train_med['score_step4'] - df_train_med['score_true'])**2)/len(df_train_med)"
   ]
  },
  {
   "cell_type": "code",
   "execution_count": 56,
   "metadata": {},
   "outputs": [
    {
     "output_type": "execute_result",
     "data": {
      "text/plain": [
       "                                                                           sentence_a  \\\n",
       "1351                          Prozac 20 mg capsule 1 capsule by mouth one time daily.   \n",
       "1289  ondansetron [ZOFRAN] 4 mg tablet 1 tablet by mouth three times a day as needed.   \n",
       "873          hydrochlorothiazide 25 mg tablet one-half tablet by mouth every morning.   \n",
       "479                          Prozac 20 mg capsule 3 capsules by mouth one time daily.   \n",
       "1253              amlodipine [NORVASC] 5 mg tablet 2 tablets by mouth one time daily.   \n",
       "\n",
       "                                                                        sentence_b  \\\n",
       "1351  ibuprofen [ADVIL] 200 mg tablet 3 tablets by mouth one time daily as needed.   \n",
       "1289    amoxicillin [AMOXIL] 500 mg capsule 2 capsules by mouth three times a day.   \n",
       "873           ibuprofen [MOTRIN] 600 mg tablet 1 tablet by mouth four times a day.   \n",
       "479                         Aleve 220 mg tablet 1 tablet by mouth two times a day.   \n",
       "1253          hydrochlorothiazide 12.5 mg tablet 1 tablet by mouth one time daily.   \n",
       "\n",
       "      score_true  score_step2  score_step4  score_diff  \n",
       "1351         1.5     1.718230     1.699896   -0.018334  \n",
       "1289         3.0     1.683182     1.699137   -0.015955  \n",
       "873          1.5     1.590499     1.697998    0.107499  \n",
       "479          0.5     2.019769     1.678388   -0.341381  \n",
       "1253         1.5     1.880972     1.700071   -0.180902  "
      ],
      "text/html": "<div>\n<style scoped>\n    .dataframe tbody tr th:only-of-type {\n        vertical-align: middle;\n    }\n\n    .dataframe tbody tr th {\n        vertical-align: top;\n    }\n\n    .dataframe thead th {\n        text-align: right;\n    }\n</style>\n<table border=\"1\" class=\"dataframe\">\n  <thead>\n    <tr style=\"text-align: right;\">\n      <th></th>\n      <th>sentence_a</th>\n      <th>sentence_b</th>\n      <th>score_true</th>\n      <th>score_step2</th>\n      <th>score_step4</th>\n      <th>score_diff</th>\n    </tr>\n  </thead>\n  <tbody>\n    <tr>\n      <th>1351</th>\n      <td>Prozac 20 mg capsule 1 capsule by mouth one time daily.</td>\n      <td>ibuprofen [ADVIL] 200 mg tablet 3 tablets by mouth one time daily as needed.</td>\n      <td>1.5</td>\n      <td>1.718230</td>\n      <td>1.699896</td>\n      <td>-0.018334</td>\n    </tr>\n    <tr>\n      <th>1289</th>\n      <td>ondansetron [ZOFRAN] 4 mg tablet 1 tablet by mouth three times a day as needed.</td>\n      <td>amoxicillin [AMOXIL] 500 mg capsule 2 capsules by mouth three times a day.</td>\n      <td>3.0</td>\n      <td>1.683182</td>\n      <td>1.699137</td>\n      <td>-0.015955</td>\n    </tr>\n    <tr>\n      <th>873</th>\n      <td>hydrochlorothiazide 25 mg tablet one-half tablet by mouth every morning.</td>\n      <td>ibuprofen [MOTRIN] 600 mg tablet 1 tablet by mouth four times a day.</td>\n      <td>1.5</td>\n      <td>1.590499</td>\n      <td>1.697998</td>\n      <td>0.107499</td>\n    </tr>\n    <tr>\n      <th>479</th>\n      <td>Prozac 20 mg capsule 3 capsules by mouth one time daily.</td>\n      <td>Aleve 220 mg tablet 1 tablet by mouth two times a day.</td>\n      <td>0.5</td>\n      <td>2.019769</td>\n      <td>1.678388</td>\n      <td>-0.341381</td>\n    </tr>\n    <tr>\n      <th>1253</th>\n      <td>amlodipine [NORVASC] 5 mg tablet 2 tablets by mouth one time daily.</td>\n      <td>hydrochlorothiazide 12.5 mg tablet 1 tablet by mouth one time daily.</td>\n      <td>1.5</td>\n      <td>1.880972</td>\n      <td>1.700071</td>\n      <td>-0.180902</td>\n    </tr>\n  </tbody>\n</table>\n</div>"
     },
     "metadata": {},
     "execution_count": 56
    }
   ],
   "source": [
    "np.random.seed(5)\n",
    "df_train_med.sample(5)"
   ]
  },
  {
   "cell_type": "markdown",
   "metadata": {},
   "source": [
    "## Test"
   ]
  },
  {
   "cell_type": "code",
   "execution_count": 57,
   "metadata": {},
   "outputs": [],
   "source": [
    "df_test = pd.read_csv(path_data / 'clinicalSTS2019.test.txt', delimiter='\\t', names=['sentence_a', 'sentence_b'])\n",
    "df_test['score_step2'] = pd.read_csv(path_results / 'normal' / 'step2_test_scores.csv', header=None)[0].to_numpy()\n",
    "df_test['score_step4'] = pd.read_csv(path_results / 'normal' / 'step4_test_scores.csv', header=None)[0].to_numpy()\n",
    "df_test['score_true'] = pd.read_csv(path_data / 'clinicalSTS2019.test.gs.sim.txt', header=None)[0].to_numpy()\n",
    "df_test['score_diff'] = (abs(df_test['score_step4'] - df_test['score_true'])) - abs((df_test['score_step2'] - df_test['score_true']))\n",
    "\n",
    "df_test_med = df_test[np.abs(df_test['score_step2'] - df_test['score_step4']) > 0.001]\n",
    "#df_test_med = df_test[df_test['score_step2'] != df_test['score_step4']]"
   ]
  },
  {
   "cell_type": "code",
   "execution_count": 58,
   "metadata": {},
   "outputs": [
    {
     "output_type": "execute_result",
     "data": {
      "text/plain": [
       "(1.7645631067961165, 1.5208707178893903)"
      ]
     },
     "metadata": {},
     "execution_count": 58
    }
   ],
   "source": [
    "(df_test['score_true'].mean(), df_test['score_true'].std())"
   ]
  },
  {
   "cell_type": "code",
   "execution_count": 70,
   "metadata": {},
   "outputs": [
    {
     "output_type": "execute_result",
     "data": {
      "text/plain": [
       "(94, 22.815533980582526)"
      ]
     },
     "metadata": {},
     "execution_count": 70
    }
   ],
   "source": [
    "(len(df_test_med), 100 * len(df_test_med) / len(df_test))"
   ]
  },
  {
   "cell_type": "code",
   "execution_count": 60,
   "metadata": {},
   "outputs": [
    {
     "output_type": "execute_result",
     "data": {
      "text/plain": [
       "(1.0957446808510638, 0.5041579573299865)"
      ]
     },
     "metadata": {},
     "execution_count": 60
    }
   ],
   "source": [
    "(df_test_med['score_true'].mean(), df_test_med['score_true'].std())"
   ]
  },
  {
   "cell_type": "code",
   "execution_count": 61,
   "metadata": {},
   "outputs": [
    {
     "output_type": "execute_result",
     "data": {
      "text/plain": [
       "2.432894107188975"
      ]
     },
     "metadata": {},
     "execution_count": 61
    }
   ],
   "source": [
    "np.sum(np.abs(df_test_med['score_step2'] - df_test_med['score_true'])**2)/len(df_test_med)"
   ]
  },
  {
   "cell_type": "code",
   "execution_count": 62,
   "metadata": {},
   "outputs": [
    {
     "output_type": "execute_result",
     "data": {
      "text/plain": [
       "0.5612688029859126"
      ]
     },
     "metadata": {},
     "execution_count": 62
    }
   ],
   "source": [
    "np.sum(np.abs(df_test_med['score_step4'] - df_test_med['score_true'])**2)/len(df_test_med)"
   ]
  },
  {
   "cell_type": "code",
   "execution_count": 77,
   "metadata": {},
   "outputs": [
    {
     "output_type": "execute_result",
     "data": {
      "text/plain": [
       "                                                                                      sentence_a  \\\n",
       "30      Qsymia 3.75-23 mg capsule multiphasic release 24 hour 1 capsule by mouth one time daily.   \n",
       "205                                       Aleve 220 mg tablet 1 tablet by mouth two times a day.   \n",
       "117                lisinopril [PRINIVIL/ZESTRIL] 10 mg tablet 2 tablets by mouth one time daily.   \n",
       "338  Tylenol Extra Strength 500 mg tablet 1 tablet by mouth as directed by prescriber as needed.   \n",
       "121                  ibuprofen [MOTRIN] 600 mg tablet 1 tablet by mouth every 6 hours as needed.   \n",
       "\n",
       "                                                                        sentence_b  \\\n",
       "30                Aleve 220 mg tablet 2 tablets by mouth one time daily as needed.   \n",
       "205    acetaminophen [TYLENOL] 500 mg tablet 2 tablets by mouth three times a day.   \n",
       "117           naproxen [NAPROSYN] 500 mg tablet 1 tablet by mouth two times a day.   \n",
       "338             furosemide [LASIX] 20 mg tablet 3 tablets by mouth one time daily.   \n",
       "121  ibuprofen [ADVIL] 200 mg tablet 2-3 tablets by mouth every 4 hours as needed.   \n",
       "\n",
       "     score_step2  score_step4  score_true  score_diff  \n",
       "30      2.324836     1.661350         0.0   -0.663486  \n",
       "205     2.736895     1.680362         1.5   -1.056533  \n",
       "117     2.287069     1.691543         1.0   -0.595525  \n",
       "338     1.877145     1.694849         1.0   -0.182296  \n",
       "121     3.907524     4.261679         3.0    0.354155  "
      ],
      "text/html": "<div>\n<style scoped>\n    .dataframe tbody tr th:only-of-type {\n        vertical-align: middle;\n    }\n\n    .dataframe tbody tr th {\n        vertical-align: top;\n    }\n\n    .dataframe thead th {\n        text-align: right;\n    }\n</style>\n<table border=\"1\" class=\"dataframe\">\n  <thead>\n    <tr style=\"text-align: right;\">\n      <th></th>\n      <th>sentence_a</th>\n      <th>sentence_b</th>\n      <th>score_step2</th>\n      <th>score_step4</th>\n      <th>score_true</th>\n      <th>score_diff</th>\n    </tr>\n  </thead>\n  <tbody>\n    <tr>\n      <th>30</th>\n      <td>Qsymia 3.75-23 mg capsule multiphasic release 24 hour 1 capsule by mouth one time daily.</td>\n      <td>Aleve 220 mg tablet 2 tablets by mouth one time daily as needed.</td>\n      <td>2.324836</td>\n      <td>1.661350</td>\n      <td>0.0</td>\n      <td>-0.663486</td>\n    </tr>\n    <tr>\n      <th>205</th>\n      <td>Aleve 220 mg tablet 1 tablet by mouth two times a day.</td>\n      <td>acetaminophen [TYLENOL] 500 mg tablet 2 tablets by mouth three times a day.</td>\n      <td>2.736895</td>\n      <td>1.680362</td>\n      <td>1.5</td>\n      <td>-1.056533</td>\n    </tr>\n    <tr>\n      <th>117</th>\n      <td>lisinopril [PRINIVIL/ZESTRIL] 10 mg tablet 2 tablets by mouth one time daily.</td>\n      <td>naproxen [NAPROSYN] 500 mg tablet 1 tablet by mouth two times a day.</td>\n      <td>2.287069</td>\n      <td>1.691543</td>\n      <td>1.0</td>\n      <td>-0.595525</td>\n    </tr>\n    <tr>\n      <th>338</th>\n      <td>Tylenol Extra Strength 500 mg tablet 1 tablet by mouth as directed by prescriber as needed.</td>\n      <td>furosemide [LASIX] 20 mg tablet 3 tablets by mouth one time daily.</td>\n      <td>1.877145</td>\n      <td>1.694849</td>\n      <td>1.0</td>\n      <td>-0.182296</td>\n    </tr>\n    <tr>\n      <th>121</th>\n      <td>ibuprofen [MOTRIN] 600 mg tablet 1 tablet by mouth every 6 hours as needed.</td>\n      <td>ibuprofen [ADVIL] 200 mg tablet 2-3 tablets by mouth every 4 hours as needed.</td>\n      <td>3.907524</td>\n      <td>4.261679</td>\n      <td>3.0</td>\n      <td>0.354155</td>\n    </tr>\n  </tbody>\n</table>\n</div>"
     },
     "metadata": {},
     "execution_count": 77
    }
   ],
   "source": [
    "np.random.seed(9)\n",
    "df_test_med.sample(5)"
   ]
  },
  {
   "cell_type": "markdown",
   "metadata": {},
   "source": [
    "## M-Heads"
   ]
  },
  {
   "cell_type": "code",
   "execution_count": 64,
   "metadata": {},
   "outputs": [],
   "source": [
    "df_trainh = pd.read_csv(path_data / 'clinicalSTS2019.train.txt', delimiter='\\t', names=['sentence_a', 'sentence_b', 'score_true'])\n",
    "df_trainh['score_step2'] = pd.read_csv(path_results / 'heads' / 'step1_train_scores.csv', header=None)[0].to_numpy()\n",
    "df_trainh['score_step4'] = pd.read_csv(path_results / 'heads' / 'step4_train_scores.csv', header=None)[0].to_numpy()\n",
    "df_trainh['score_diff'] = (abs(df_trainh['score_step4'] - df_trainh['score_true'])) - abs((df_trainh['score_step2'] - df_trainh['score_true']))\n",
    "\n",
    "df_trainh_med = df_trainh[np.abs(df_trainh['score_step2'] - df_trainh['score_step4']) > 0.001]\n",
    "#df_trainh_med = df_trainh[df_trainh['score_step2'] != df_trainh['score_step4']]"
   ]
  },
  {
   "cell_type": "code",
   "execution_count": 65,
   "metadata": {},
   "outputs": [
    {
     "output_type": "execute_result",
     "data": {
      "text/plain": [
       "146"
      ]
     },
     "metadata": {},
     "execution_count": 65
    }
   ],
   "source": [
    "len(df_trainh_med)"
   ]
  },
  {
   "cell_type": "code",
   "execution_count": 66,
   "metadata": {},
   "outputs": [
    {
     "output_type": "execute_result",
     "data": {
      "text/plain": [
       "0.6101250129135304"
      ]
     },
     "metadata": {},
     "execution_count": 66
    }
   ],
   "source": [
    "np.sum(np.abs(df_trainh_med['score_step2'] - df_trainh_med['score_true'])**2)/len(df_trainh_med)"
   ]
  },
  {
   "cell_type": "code",
   "execution_count": 67,
   "metadata": {},
   "outputs": [
    {
     "output_type": "execute_result",
     "data": {
      "text/plain": [
       "0.5969832368522427"
      ]
     },
     "metadata": {},
     "execution_count": 67
    }
   ],
   "source": [
    "np.sum(np.abs(df_trainh_med['score_step4'] - df_trainh_med['score_true'])**2)/len(df_trainh_med)"
   ]
  }
 ],
 "metadata": {
  "kernelspec": {
   "display_name": "Python 3",
   "language": "python",
   "name": "python3"
  },
  "language_info": {
   "codemirror_mode": {
    "name": "ipython",
    "version": 3
   },
   "file_extension": ".py",
   "mimetype": "text/x-python",
   "name": "python",
   "nbconvert_exporter": "python",
   "pygments_lexer": "ipython3",
   "version": "3.8.5-final"
  }
 },
 "nbformat": 4,
 "nbformat_minor": 4
}